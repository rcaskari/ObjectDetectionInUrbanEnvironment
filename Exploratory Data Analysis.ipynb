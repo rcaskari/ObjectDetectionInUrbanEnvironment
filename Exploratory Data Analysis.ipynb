{
 "cells": [
  {
   "cell_type": "markdown",
   "metadata": {},
   "source": [
    "# Explore the dataset\n",
    "\n",
    "\n",
    "In this notebook, we will perform an EDA (Exploratory Data Analysis) on the processed Waymo dataset (data in the `processed` folder). In the first part, you will create a function to display "
   ]
  },
  {
   "cell_type": "code",
   "execution_count": null,
   "metadata": {},
   "outputs": [],
   "source": [
    "from utils import get_dataset\n",
    "from matplotlib.patches import Rectangle\n",
    "import copy\n",
    "import matplotlib.pyplot as plt\n",
    "import numpy as np\n",
    "import tensorflow as tf\n",
    "\n",
    "%matplotlib inline"
   ]
  },
  {
   "cell_type": "code",
   "execution_count": null,
   "metadata": {},
   "outputs": [],
   "source": [
    "#pulled records from provided workspace data file\n",
    "dataset = get_dataset(\"/home/workspace/data/*/*.tfrecord\")"
   ]
  },
  {
   "cell_type": "markdown",
   "metadata": {},
   "source": [
    "## Write a function to display an image and the bounding boxes\n",
    "\n",
    "Implement the `display_instances` function below. This function takes a batch as an input and display an image with its corresponding bounding boxes. The only requirement is that the classes should be color coded (eg, vehicles in red, pedestrians in blue, cyclist in green)."
   ]
  },
  {
   "cell_type": "code",
   "execution_count": null,
   "metadata": {},
   "outputs": [],
   "source": [
    "def display_images(batch):\n",
    "    \"\"\"\n",
    "    This function takes a batch from the dataset and display the image with \n",
    "    the associated bounding boxes.\n",
    "    \"\"\"\n",
    "    #explore batch record output --> display_images(dataset.take(1))\n",
    "    \n",
    "    #extract values of interest from batch record\n",
    "    classes = batch['groundtruth_classes'].numpy()\n",
    "    bboxes = batch['groundtruth_boxes'].numpy()\n",
    "    image = batch['image'].numpy()\n",
    "    height, width, _ = image.shape\n",
    "\n",
    "    #resize bboxes,\n",
    "    model_bboxes = copy.deepcopy(bboxes)\n",
    "    model_bboxes[:, [0,2]] = model_bboxes[:, [0, 2]] * height\n",
    "    model_bboxes[:, [1,3]] = model_bboxes[:, [1, 3]] * width\n",
    "    #color to class map --> red is car, blue is pedestrian, and green is cyclist\n",
    "    color_map = {1: 'red', 2: 'blue', 4: 'green'}\n",
    "    \n",
    "    #prepare visual\n",
    "    fig = plt.figure()\n",
    "    ax = fig.add_subplot(1,1,1)\n",
    "    ax.set_xlabel(\"Width(px)\")\n",
    "    ax.set_ylabel(\"Height(px)\")\n",
    "    \n",
    "    #add image to plot\n",
    "    ax.imshow(image)\n",
    "    \n",
    "    #add bboxes to image\n",
    "    for bbox, cl in zip(model_bboxes, classes):\n",
    "        y1, x1, y2, x2 = bbox\n",
    "        rec = patches.Rectangle((x1, y1), x2-x1, y2-y1, facecolor='none', edgecolor=color_map[cl])\n",
    "        ax.add_patch(rec)"
   ]
  },
  {
   "cell_type": "markdown",
   "metadata": {},
   "source": [
    "## Display 10 images \n",
    "\n",
    "Using the dataset created in the second cell and the function you just coded, display 10 random images with the associated bounding boxes. You can use the methods `take` and `shuffle` on the dataset."
   ]
  },
  {
   "cell_type": "code",
   "execution_count": null,
   "metadata": {},
   "outputs": [],
   "source": [
    "dataset.shuffle(99)\n",
    "\n",
    "lucky_imgs = dataset.take(10)\n",
    "\n",
    "for batch in lucky_imgs:\n",
    "    display_images(batch)\n",
    "\n",
    "plt.show()"
   ]
  },
  {
   "cell_type": "markdown",
   "metadata": {},
   "source": [
    "## Additional EDA\n",
    "\n",
    "In this last part, you are free to perform any additional analysis of the dataset. What else would like to know about the data?\n",
    "For example, think about data distribution. So far, you have only looked at a single file..."
   ]
  },
  {
   "cell_type": "code",
   "execution_count": null,
   "metadata": {},
   "outputs": [],
   "source": [
    "#data distribution. Ask ourselves how many of each entity or class is present in the current data set\n",
    "\n",
    "class_names = [\"Car\", \"Pedestrian\", \"Cyclist\"]\n",
    "class_counts = {'1': 0, '2':0, '4':0}\n",
    "\n",
    "class_pos = np.arange(len(class_names))\n",
    "\n",
    "dataset.shuffle(100)\n",
    "b_size = (10000)\n",
    "data = dataset.take(b_size)\n",
    "\n",
    "for batch in data:\n",
    "    gt_classes = batch['groundtruth_classes'].numpy()\n",
    "    for cl in gt_classes:\n",
    "        class_counts[str(cl)]+=1\n",
    "\n",
    "plt.bar(class_pos,[class_counts['1'],class_counts['2'],class_counts['4']])\n",
    "plt.xticks(class_pos, class_names)\n",
    "plt.show()"
   ]
  }
 ],
 "metadata": {
  "kernelspec": {
   "display_name": "Python 3.10.6 64-bit",
   "language": "python",
   "name": "python3"
  },
  "language_info": {
   "codemirror_mode": {
    "name": "ipython",
    "version": 3
   },
   "file_extension": ".py",
   "mimetype": "text/x-python",
   "name": "python",
   "nbconvert_exporter": "python",
   "pygments_lexer": "ipython3",
   "version": "3.10.6"
  },
  "vscode": {
   "interpreter": {
    "hash": "b0fa6594d8f4cbf19f97940f81e996739fb7646882a419484c72d19e05852a7e"
   }
  }
 },
 "nbformat": 4,
 "nbformat_minor": 4
}
